{
 "cells": [
  {
   "cell_type": "code",
   "execution_count": 2,
   "metadata": {},
   "outputs": [
    {
     "name": "stderr",
     "output_type": "stream",
     "text": [
      "IOPub data rate exceeded.\n",
      "The notebook server will temporarily stop sending output\n",
      "to the client in order to avoid crashing it.\n",
      "To change this limit, set the config variable\n",
      "`--NotebookApp.iopub_data_rate_limit`.\n",
      "\n",
      "Current values:\n",
      "NotebookApp.iopub_data_rate_limit=1000000.0 (bytes/sec)\n",
      "NotebookApp.rate_limit_window=3.0 (secs)\n",
      "\n"
     ]
    }
   ],
   "source": [
    "import json\n",
    "from difflib import get_close_matches\n",
    "data=json.load(open(\"data.json\"))\n",
    "#print(data)"
   ]
  },
  {
   "cell_type": "code",
   "execution_count": 1,
   "metadata": {},
   "outputs": [
    {
     "name": "stdout",
     "output_type": "stream",
     "text": [
      "enter the word to search grapes\n",
      "did you mean grape instead \n",
      "press y for yes and n for no y\n",
      "A small, round, smooth-skinned edible fruit, usually purple, red, or green, that grows in bunches on certain vines.\n"
     ]
    }
   ],
   "source": [
    "import json\n",
    "from difflib import get_close_matches\n",
    "data=json.load(open(\"data.json\"))\n",
    "#print(data)\n",
    "def translate(word):\n",
    "    word=word.lower()  #changing all word to lower case\n",
    "    if word in data:\n",
    "        return data[word]\n",
    "    elif word.title() in data:   #changing tamil into Tamil so that both can work\n",
    "        return data[word.title()]\n",
    "    elif word.upper() in data:   #changing tamil into TAMIL so that both can work\n",
    "        return data[word.upper()]\n",
    "    elif len(get_close_matches(word,data.keys()))>0:     #(\"abc\",[\"abcd\",\"abcde\",\"acbed\"]) like this\n",
    "        print(\"did you mean %s instead \" %get_close_matches(word,data.keys())[0])\n",
    "        decide=input(\"press y for yes and n for no \")\n",
    "        if decide==\"y\":\n",
    "            return data[get_close_matches(word,data.keys())[0]]\n",
    "        elif decide==\"n\":\n",
    "            return(\"pugger your paw steps on wrong keys \")\n",
    "        else:\n",
    "            return(\"you have entered wrong input \")\n",
    "            \n",
    "    else:\n",
    "        print(\"pugger your paw steps on wrong keys \")\n",
    "    \n",
    "word=input(\"enter the word to search \")\n",
    "output=translate(word)\n",
    "\n",
    "#we are doing following thing to print all different meaning in separate separate line\n",
    "if type(output)==list:\n",
    "    for item in output:\n",
    "        print(item)\n",
    "else:\n",
    "    print(output)"
   ]
  },
  {
   "cell_type": "code",
   "execution_count": 17,
   "metadata": {},
   "outputs": [
    {
     "data": {
      "text/plain": [
       "['abcd']"
      ]
     },
     "execution_count": 17,
     "metadata": {},
     "output_type": "execute_result"
    }
   ],
   "source": [
    "#to get the closet match of any word import following library\n",
    "from difflib import get_close_matches\n",
    "get_close_matches(\"abc\",[\"abcd\",\"sdaf\",\"acedf\"])"
   ]
  },
  {
   "cell_type": "code",
   "execution_count": 18,
   "metadata": {},
   "outputs": [
    {
     "data": {
      "text/plain": [
       "['abcd', 'abcde']"
      ]
     },
     "execution_count": 18,
     "metadata": {},
     "output_type": "execute_result"
    }
   ],
   "source": [
    "get_close_matches(\"abc\",[\"abcd\",\"abcde\",\"acbed\"])"
   ]
  },
  {
   "cell_type": "code",
   "execution_count": 19,
   "metadata": {},
   "outputs": [
    {
     "data": {
      "text/plain": [
       "['abc', 'abcd', 'abe']"
      ]
     },
     "execution_count": 19,
     "metadata": {},
     "output_type": "execute_result"
    }
   ],
   "source": [
    "x=[\"abcd\",\"abc\",\"abe\",\"a\"]\n",
    "get_close_matches(\"abc\",x)"
   ]
  },
  {
   "cell_type": "code",
   "execution_count": 20,
   "metadata": {},
   "outputs": [
    {
     "data": {
      "text/plain": [
       "['abc']"
      ]
     },
     "execution_count": 20,
     "metadata": {},
     "output_type": "execute_result"
    }
   ],
   "source": [
    "#number of output we want with matches\n",
    "get_close_matches(\"abc\",x,n=1)"
   ]
  },
  {
   "cell_type": "code",
   "execution_count": 21,
   "metadata": {},
   "outputs": [
    {
     "data": {
      "text/plain": [
       "['abc', 'abcd']"
      ]
     },
     "execution_count": 21,
     "metadata": {},
     "output_type": "execute_result"
    }
   ],
   "source": [
    "get_close_matches(\"abc\",x,n=2)"
   ]
  },
  {
   "cell_type": "code",
   "execution_count": 22,
   "metadata": {},
   "outputs": [
    {
     "data": {
      "text/plain": [
       "['abc', 'abcd', 'abe']"
      ]
     },
     "execution_count": 22,
     "metadata": {},
     "output_type": "execute_result"
    }
   ],
   "source": [
    "#cutoff means accuracy level\n",
    "get_close_matches(\"abc\",x,cutoff=0.5) "
   ]
  },
  {
   "cell_type": "code",
   "execution_count": 23,
   "metadata": {},
   "outputs": [
    {
     "data": {
      "text/plain": [
       "['abc', 'abcd']"
      ]
     },
     "execution_count": 23,
     "metadata": {},
     "output_type": "execute_result"
    }
   ],
   "source": [
    "get_close_matches(\"abc\",x,cutoff=0.8)"
   ]
  },
  {
   "cell_type": "code",
   "execution_count": 24,
   "metadata": {},
   "outputs": [
    {
     "data": {
      "text/plain": [
       "['ab']"
      ]
     },
     "execution_count": 24,
     "metadata": {},
     "output_type": "execute_result"
    }
   ],
   "source": [
    "import json\n",
    "data=json.load(open(\"data.json\"))\n",
    "#now onething we should note that we are going to search the word from the keys of dictionary only not from value\n",
    "#data.keys()   will give list of all the key that we have\n",
    "\n",
    "get_close_matches(\"ab\",data.keys(),cutoff=1)"
   ]
  },
  {
   "cell_type": "code",
   "execution_count": 25,
   "metadata": {},
   "outputs": [
    {
     "data": {
      "text/plain": [
       "['ab', 'tab', 'lab']"
      ]
     },
     "execution_count": 25,
     "metadata": {},
     "output_type": "execute_result"
    }
   ],
   "source": [
    "get_close_matches(\"ab\",data.keys(),cutoff=0.5)"
   ]
  },
  {
   "cell_type": "code",
   "execution_count": null,
   "metadata": {},
   "outputs": [],
   "source": []
  }
 ],
 "metadata": {
  "kernelspec": {
   "display_name": "Python 3",
   "language": "python",
   "name": "python3"
  },
  "language_info": {
   "codemirror_mode": {
    "name": "ipython",
    "version": 3
   },
   "file_extension": ".py",
   "mimetype": "text/x-python",
   "name": "python",
   "nbconvert_exporter": "python",
   "pygments_lexer": "ipython3",
   "version": "3.7.6"
  }
 },
 "nbformat": 4,
 "nbformat_minor": 4
}
