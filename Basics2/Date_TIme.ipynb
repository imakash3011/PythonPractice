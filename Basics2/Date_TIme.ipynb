{
 "cells": [
  {
   "cell_type": "markdown",
   "metadata": {},
   "source": [
    "getting Date and Time using module"
   ]
  },
  {
   "cell_type": "code",
   "execution_count": 4,
   "metadata": {},
   "outputs": [
    {
     "name": "stdout",
     "output_type": "stream",
     "text": [
      "2020-05-23 13:25:23.512585\n",
      "2020\n",
      "5\n"
     ]
    }
   ],
   "source": [
    "import datetime\n",
    "x=datetime.datetime.now()   #we are using now() to print current date and time\n",
    "print(x)\n",
    "print(x.year)\n",
    "print(x.month)"
   ]
  },
  {
   "cell_type": "code",
   "execution_count": 9,
   "metadata": {},
   "outputs": [
    {
     "name": "stdout",
     "output_type": "stream",
     "text": [
      "2022-11-30 00:00:00\n",
      "2022\n",
      "11\n"
     ]
    }
   ],
   "source": [
    "import datetime\n",
    "x=datetime.datetime(2022,11,30)   # we can also provide the custom date and time\n",
    "print(x)\n",
    "print(x.year)\n",
    "print(x.month)\n"
   ]
  },
  {
   "cell_type": "code",
   "execution_count": 19,
   "metadata": {},
   "outputs": [
    {
     "name": "stdout",
     "output_type": "stream",
     "text": [
      "May\n",
      "Saturday\n",
      "Sat\n",
      "2020\n",
      "13\n",
      "49\n",
      "53\n",
      "PM\n",
      "6\n",
      "May 23 2020 13:49:53\n"
     ]
    }
   ],
   "source": [
    "#string formatting date and time\n",
    "#date formatting methods in python :  just search for this to know more\n",
    "\n",
    "import datetime\n",
    "x=datetime.datetime.now()   #we are using now() to print current date and time\n",
    "\n",
    "print(x.strftime(\"%B\"))\n",
    "print(x.strftime(\"%A\"))\n",
    "print(x.strftime(\"%a\"))\n",
    "print(x.strftime(\"%Y\"))\n",
    "print(x.strftime(\"%H\"))\n",
    "print(x.strftime(\"%M\"))\n",
    "print(x.strftime(\"%S\"))\n",
    "print(x.strftime(\"%p\"))  \n",
    "print(x.strftime(\"%w\"))  #saturday=6\n",
    "\n",
    "print(x.strftime(\"%b %d %Y %H:%M:%S\"))\n"
   ]
  },
  {
   "cell_type": "code",
   "execution_count": null,
   "metadata": {},
   "outputs": [],
   "source": []
  }
 ],
 "metadata": {
  "kernelspec": {
   "display_name": "Python 3",
   "language": "python",
   "name": "python3"
  },
  "language_info": {
   "codemirror_mode": {
    "name": "ipython",
    "version": 3
   },
   "file_extension": ".py",
   "mimetype": "text/x-python",
   "name": "python",
   "nbconvert_exporter": "python",
   "pygments_lexer": "ipython3",
   "version": "3.7.6"
  }
 },
 "nbformat": 4,
 "nbformat_minor": 4
}
