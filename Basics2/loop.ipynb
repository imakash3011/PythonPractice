{
 "cells": [
  {
   "cell_type": "code",
   "execution_count": 1,
   "metadata": {},
   "outputs": [
    {
     "name": "stdout",
     "output_type": "stream",
     "text": [
      "1\n",
      "2\n",
      "3\n",
      "4\n",
      "5\n",
      "6\n",
      "7\n"
     ]
    }
   ],
   "source": [
    "x=[1,2,3,4,5,6,7]\n",
    "for i in x:\n",
    "    print(i)"
   ]
  },
  {
   "cell_type": "code",
   "execution_count": 6,
   "metadata": {},
   "outputs": [
    {
     "name": "stdout",
     "output_type": "stream",
     "text": [
      "enter name a\n",
      "enter name s\n",
      "enter name d\n",
      "enter name f\n",
      "enter name g\n",
      "enter name e\n",
      "enter name w\n",
      "enter name r\n",
      "['a', 's', 'd', 'f', 'g', 'e', 'w', 'r']\n"
     ]
    }
   ],
   "source": [
    "y=[0,1,2,3,4,5,6,7]\n",
    "for i in y:\n",
    "    y[i]=input(\"enter name \")\n",
    "    \n",
    "print(y)"
   ]
  },
  {
   "cell_type": "code",
   "execution_count": 7,
   "metadata": {},
   "outputs": [
    {
     "name": "stdout",
     "output_type": "stream",
     "text": [
      "0\n",
      "1\n",
      "2\n",
      "3\n",
      "4\n",
      "5\n"
     ]
    }
   ],
   "source": [
    "#while loop\n",
    "\n",
    "i=0\n",
    "while i<=5:\n",
    "    print(i)\n",
    "    i+=1\n"
   ]
  },
  {
   "cell_type": "code",
   "execution_count": 8,
   "metadata": {},
   "outputs": [
    {
     "name": "stdout",
     "output_type": "stream",
     "text": [
      "e\n",
      "l\n",
      "e\n",
      "p\n",
      "h\n",
      "a\n",
      "n\n",
      "t\n"
     ]
    }
   ],
   "source": [
    "y=\"elephant\"\n",
    "for i in y:\n",
    "    print(i)"
   ]
  },
  {
   "cell_type": "code",
   "execution_count": 13,
   "metadata": {},
   "outputs": [
    {
     "name": "stdout",
     "output_type": "stream",
     "text": [
      "0\n",
      "1\n",
      "2\n",
      "3\n",
      "4\n"
     ]
    }
   ],
   "source": [
    "#note the position of print()\n",
    "y=[0,1,2,3,4,5,6,7]\n",
    "for i in y:\n",
    "    print(i)\n",
    "    if(i==4):\n",
    "        break\n",
    "        \n",
    "   # print(i)"
   ]
  },
  {
   "cell_type": "code",
   "execution_count": 16,
   "metadata": {},
   "outputs": [
    {
     "name": "stdout",
     "output_type": "stream",
     "text": [
      "0\n",
      "1\n",
      "2\n",
      "3\n",
      "5\n",
      "6\n",
      "7\n"
     ]
    }
   ],
   "source": [
    "#note continue will just remove four from here \n",
    "y=[0,1,2,3,4,5,6,7]\n",
    "for i in y:\n",
    "    \n",
    "    if(i==4):\n",
    "        continue\n",
    "        \n",
    "    print(i)"
   ]
  },
  {
   "cell_type": "code",
   "execution_count": 21,
   "metadata": {},
   "outputs": [
    {
     "name": "stdout",
     "output_type": "stream",
     "text": [
      "0\n",
      "1\n",
      "2\n",
      "3\n",
      "4\n"
     ]
    }
   ],
   "source": [
    "#range function in loop\n",
    "for i in range(5):\n",
    "    print(i)"
   ]
  },
  {
   "cell_type": "code",
   "execution_count": 22,
   "metadata": {},
   "outputs": [
    {
     "name": "stdout",
     "output_type": "stream",
     "text": [
      "2\n",
      "3\n",
      "4\n",
      "5\n",
      "6\n",
      "7\n",
      "8\n",
      "9\n"
     ]
    }
   ],
   "source": [
    "#range function in loop\n",
    "for i in range(2,10):\n",
    "    print(i)"
   ]
  },
  {
   "cell_type": "code",
   "execution_count": 23,
   "metadata": {},
   "outputs": [
    {
     "name": "stdout",
     "output_type": "stream",
     "text": [
      "1\n",
      "4\n",
      "7\n"
     ]
    }
   ],
   "source": [
    "#range function in loop\n",
    "for i in range(1,10,3):\n",
    "    print(i)"
   ]
  },
  {
   "cell_type": "code",
   "execution_count": 24,
   "metadata": {},
   "outputs": [
    {
     "name": "stdout",
     "output_type": "stream",
     "text": [
      "0\n",
      "1\n",
      "2\n",
      "3\n",
      "4\n",
      "5\n",
      "6\n",
      "7\n",
      "8\n",
      "9\n",
      "now all seats are full\n"
     ]
    }
   ],
   "source": [
    "#else with the loop\n",
    "#here the for loop will acts as if condition\n",
    "for i in range(10):\n",
    "    print(i)\n",
    "else:\n",
    "    print(\"now all seats are full\")"
   ]
  },
  {
   "cell_type": "markdown",
   "metadata": {},
   "source": [
    "Nested loop"
   ]
  },
  {
   "cell_type": "code",
   "execution_count": 28,
   "metadata": {},
   "outputs": [
    {
     "name": "stdout",
     "output_type": "stream",
     "text": [
      "big dialmond\n",
      "big platinum\n",
      "big gold\n",
      "big silver\n",
      "big bronze\n",
      "small dialmond\n",
      "small platinum\n",
      "small gold\n",
      "small silver\n",
      "small bronze\n",
      "tiny dialmond\n",
      "tiny platinum\n",
      "tiny gold\n",
      "tiny silver\n",
      "tiny bronze\n",
      "atom dialmond\n",
      "atom platinum\n",
      "atom gold\n",
      "atom silver\n",
      "atom bronze\n",
      "nucleus dialmond\n",
      "nucleus platinum\n",
      "nucleus gold\n",
      "nucleus silver\n",
      "nucleus bronze\n"
     ]
    }
   ],
   "source": [
    "x=[\"big\",\"small\",\"tiny\",\"atom\",\"nucleus\"]\n",
    "y=[\"dialmond\",\"platinum\",\"gold\",\"silver\",\"bronze\"]\n",
    "\n",
    "for i in x:\n",
    "    for j in y:\n",
    "        print(i,j)\n",
    "       # print(x,y)"
   ]
  },
  {
   "cell_type": "code",
   "execution_count": 33,
   "metadata": {},
   "outputs": [
    {
     "name": "stdout",
     "output_type": "stream",
     "text": [
      "big dialmond\n",
      "big platinum\n",
      "big gold\n",
      "big silver\n",
      "big bronze\n",
      "small dialmond\n",
      "small platinum\n",
      "small gold\n",
      "small silver\n",
      "small bronze\n",
      "tiny dialmond\n",
      "tiny platinum\n",
      "tiny gold\n",
      "tiny silver\n",
      "tiny bronze\n",
      "atom dialmond\n",
      "atom platinum\n",
      "atom gold\n",
      "atom silver\n",
      "atom bronze\n",
      "nucleus dialmond\n",
      "nucleus platinum\n",
      "nucleus gold\n",
      "nucleus silver\n",
      "nucleus bronze\n"
     ]
    }
   ],
   "source": [
    "x=[\"big\",\"small\",\"tiny\",\"atom\",\"nucleus\"]\n",
    "y=[\"dialmond\",\"platinum\",\"gold\",\"silver\",\"bronze\"]\n",
    "a=0\n",
    "b=0\n",
    "for i in x:\n",
    "    for j in y:\n",
    "        print(x[a],y[b])\n",
    "        b+=1\n",
    "    a+=1\n",
    "    b=0 # here when the b=4 then by doing b=0 it will again initilise to zero otherwise it will give error\n",
    "        "
   ]
  },
  {
   "cell_type": "code",
   "execution_count": null,
   "metadata": {},
   "outputs": [],
   "source": []
  }
 ],
 "metadata": {
  "kernelspec": {
   "display_name": "Python 3",
   "language": "python",
   "name": "python3"
  },
  "language_info": {
   "codemirror_mode": {
    "name": "ipython",
    "version": 3
   },
   "file_extension": ".py",
   "mimetype": "text/x-python",
   "name": "python",
   "nbconvert_exporter": "python",
   "pygments_lexer": "ipython3",
   "version": "3.7.6"
  }
 },
 "nbformat": 4,
 "nbformat_minor": 4
}
