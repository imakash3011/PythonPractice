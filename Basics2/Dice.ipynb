{
 "cells": [
  {
   "cell_type": "code",
   "execution_count": null,
   "metadata": {},
   "outputs": [],
   "source": [
    "import random\n",
    "x=random.random()\n",
    "print(x)"
   ]
  },
  {
   "cell_type": "code",
   "execution_count": null,
   "metadata": {},
   "outputs": [],
   "source": [
    "import random\n",
    "x=random.randint(1,6)\n",
    "print(x)"
   ]
  },
  {
   "cell_type": "code",
   "execution_count": null,
   "metadata": {},
   "outputs": [],
   "source": [
    "import random\n",
    "number=random.randint(1,6)\n",
    "\n",
    "if(number==1):\n",
    "    print(\"----------\")\n",
    "    print(\"|        |\")\n",
    "    print(\"|    0   |\")\n",
    "    print(\"|        |\")\n",
    "    print(\"----------\")\n",
    "\n",
    "if(number==2):\n",
    "    print(\"----------\")\n",
    "    print(\"|        |\")\n",
    "    print(\"| 0   0  |\")\n",
    "    print(\"|        |\")\n",
    "    print(\"----------\")\n",
    "\n",
    "if(number==3):\n",
    "    print(\"----------\")\n",
    "    print(\"|    0   |\")\n",
    "    print(\"|    0   |\")\n",
    "    print(\"|    0   |\")\n",
    "    print(\"----------\")\n",
    "    \n",
    "if(number==4):\n",
    "    print(\"----------\")\n",
    "    print(\"|  0   0 |\")\n",
    "    print(\"|        |\")\n",
    "    print(\"|  0   0 |\")\n",
    "    print(\"----------\")\n",
    "    \n",
    "if(number==5):\n",
    "    print(\"----------\")\n",
    "    print(\"| 0    0 |\")\n",
    "    print(\"|    0   |\")\n",
    "    print(\"| 0    0 |\")\n",
    "    print(\"----------\")\n",
    "    \n",
    "if(number==6):\n",
    "    print(\"----------\")\n",
    "    print(\"| 0    0 |\")\n",
    "    print(\"| 0    0 |\")\n",
    "    print(\"| 0    0 |\")\n",
    "    print(\"----------\")\n",
    "    "
   ]
  },
  {
   "cell_type": "code",
   "execution_count": 1,
   "metadata": {},
   "outputs": [
    {
     "name": "stdout",
     "output_type": "stream",
     "text": [
      "This is a Dice Simulator\n",
      "----------\n",
      "| 0    0 |\n",
      "|    0   |\n",
      "| 0    0 |\n",
      "----------\n",
      "Press y to play Again  y\n",
      "----------\n",
      "|        |\n",
      "| 0   0  |\n",
      "|        |\n",
      "----------\n",
      "Press y to play Again  n\n"
     ]
    }
   ],
   "source": [
    "import random\n",
    "print(\"This is a Dice Simulator\")\n",
    "#if same number is printing again and again then put the random number variable inside the loop\n",
    "x=\"y\"\n",
    "while x==\"y\":\n",
    "    number=random.randint(1,6)\n",
    "    if(number==1):\n",
    "        print(\"----------\")\n",
    "        print(\"|        |\")\n",
    "        print(\"|    0   |\")\n",
    "        print(\"|        |\")\n",
    "        print(\"----------\")\n",
    "\n",
    "    if(number==2):\n",
    "        print(\"----------\")\n",
    "        print(\"|        |\")\n",
    "        print(\"| 0   0  |\")\n",
    "        print(\"|        |\")\n",
    "        print(\"----------\")\n",
    "\n",
    "    if(number==3):\n",
    "        print(\"----------\")\n",
    "        print(\"|    0   |\")\n",
    "        print(\"|    0   |\")\n",
    "        print(\"|    0   |\")\n",
    "        print(\"----------\")\n",
    "    \n",
    "    if(number==4):\n",
    "        print(\"----------\")\n",
    "        print(\"|  0   0 |\")\n",
    "        print(\"|        |\")\n",
    "        print(\"|  0   0 |\")\n",
    "        print(\"----------\")\n",
    "    \n",
    "    if(number==5):\n",
    "        print(\"----------\")\n",
    "        print(\"| 0    0 |\")\n",
    "        print(\"|    0   |\")\n",
    "        print(\"| 0    0 |\")\n",
    "        print(\"----------\")\n",
    "    \n",
    "    if(number==6):\n",
    "        print(\"----------\")\n",
    "        print(\"| 0    0 |\")\n",
    "        print(\"| 0    0 |\")\n",
    "        print(\"| 0    0 |\")\n",
    "        print(\"----------\")\n",
    "    \n",
    "    x=input(\"Press y to play Again  \")\n",
    "    "
   ]
  },
  {
   "cell_type": "code",
   "execution_count": null,
   "metadata": {},
   "outputs": [],
   "source": []
  }
 ],
 "metadata": {
  "kernelspec": {
   "display_name": "Python 3",
   "language": "python",
   "name": "python3"
  },
  "language_info": {
   "codemirror_mode": {
    "name": "ipython",
    "version": 3
   },
   "file_extension": ".py",
   "mimetype": "text/x-python",
   "name": "python",
   "nbconvert_exporter": "python",
   "pygments_lexer": "ipython3",
   "version": "3.7.6"
  }
 },
 "nbformat": 4,
 "nbformat_minor": 4
}
