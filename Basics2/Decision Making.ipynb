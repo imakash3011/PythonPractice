{
 "cells": [
  {
   "cell_type": "markdown",
   "metadata": {},
   "source": [
    "decision making work is done by the if-else conditional statement"
   ]
  },
  {
   "cell_type": "code",
   "execution_count": 1,
   "metadata": {},
   "outputs": [
    {
     "name": "stdout",
     "output_type": "stream",
     "text": [
      "Enter value of x 4\n",
      "Enter value of y 4\n",
      "both are equal\n"
     ]
    }
   ],
   "source": [
    "x=int(input(\"Enter value of x \"))\n",
    "y=int(input(\"Enter value of y \"))\n",
    "\n",
    "if(x==y):\n",
    "    print(\"both are equal\")\n",
    "else:\n",
    "    print(\"not equal \")"
   ]
  },
  {
   "cell_type": "code",
   "execution_count": 4,
   "metadata": {},
   "outputs": [
    {
     "name": "stdout",
     "output_type": "stream",
     "text": [
      "Enter value of a 4\n",
      "Enter value of b 3\n",
      "a is greater than b\n"
     ]
    }
   ],
   "source": [
    "a=int(input(\"Enter value of a \"))\n",
    "b=int(input(\"Enter value of b \"))\n",
    "if(x==b):\n",
    "    print(\"both are equal\")\n",
    "elif(a>b):\n",
    "    print(\"a is greater than b\")\n",
    "else:\n",
    "    print(\"a is greater than b\")"
   ]
  },
  {
   "cell_type": "code",
   "execution_count": 6,
   "metadata": {},
   "outputs": [
    {
     "name": "stdout",
     "output_type": "stream",
     "text": [
      "Enter value of m 3\n",
      "Enter value of n 4\n",
      "Enter value of o 5\n",
      "o is the largest of all \n"
     ]
    }
   ],
   "source": [
    "m=int(input(\"Enter value of m \"))\n",
    "n=int(input(\"Enter value of n \"))\n",
    "o=int(input(\"Enter value of o \"))\n",
    "if(m==n and n==o):\n",
    "    print(\"all are equal\")\n",
    "elif(m<n and n<o):\n",
    "    print(\"o is the largest of all \")\n",
    "elif(m>n and n>o):\n",
    "    print(\"m is the largest of all \")\n",
    "else:\n",
    "    print(\"n is largest \")\n"
   ]
  },
  {
   "cell_type": "code",
   "execution_count": null,
   "metadata": {},
   "outputs": [],
   "source": []
  }
 ],
 "metadata": {
  "kernelspec": {
   "display_name": "Python 3",
   "language": "python",
   "name": "python3"
  },
  "language_info": {
   "codemirror_mode": {
    "name": "ipython",
    "version": 3
   },
   "file_extension": ".py",
   "mimetype": "text/x-python",
   "name": "python",
   "nbconvert_exporter": "python",
   "pygments_lexer": "ipython3",
   "version": "3.7.6"
  }
 },
 "nbformat": 4,
 "nbformat_minor": 4
}
