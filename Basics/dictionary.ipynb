{
 "cells": [
  {
   "cell_type": "code",
   "execution_count": 1,
   "metadata": {},
   "outputs": [],
   "source": [
    "cities={\n",
    "    \"Uttar Pradesh\":\"Lucknow\",\n",
    "    \"Rajasthan\":\"Jaipur\",\n",
    "    \"West Bengal\" : \"Kolkata\",\n",
    "    \"Maharastra\" : \"Mumbai\",\n",
    "    \"Punjab\" :\"Amritsar\",\n",
    "    \"Italy\":\"Rome\",\n",
    "    \"UK\" : \"London\",\n",
    "    \"US\" : \"New York\"\n",
    "}"
   ]
  },
  {
   "cell_type": "code",
   "execution_count": 3,
   "metadata": {},
   "outputs": [
    {
     "data": {
      "text/plain": [
       "'Lucknow'"
      ]
     },
     "execution_count": 3,
     "metadata": {},
     "output_type": "execute_result"
    }
   ],
   "source": [
    "cities[\"Uttar Pradesh\"]"
   ]
  },
  {
   "cell_type": "code",
   "execution_count": 5,
   "metadata": {},
   "outputs": [
    {
     "data": {
      "text/plain": [
       "'Lucknow'"
      ]
     },
     "execution_count": 5,
     "metadata": {},
     "output_type": "execute_result"
    }
   ],
   "source": [
    "#return the value of sepcified key (see braces carefully)\n",
    "cities.get(\"Uttar Pradesh\")"
   ]
  },
  {
   "cell_type": "code",
   "execution_count": 6,
   "metadata": {},
   "outputs": [],
   "source": [
    "#to change the value\n",
    "cities[\"Uttar Pradesh\"]=\"Gorakhpur\""
   ]
  },
  {
   "cell_type": "code",
   "execution_count": 7,
   "metadata": {},
   "outputs": [
    {
     "data": {
      "text/plain": [
       "'Gorakhpur'"
      ]
     },
     "execution_count": 7,
     "metadata": {},
     "output_type": "execute_result"
    }
   ],
   "source": [
    "cities[\"Uttar Pradesh\"]"
   ]
  },
  {
   "cell_type": "code",
   "execution_count": 8,
   "metadata": {},
   "outputs": [],
   "source": [
    "#adding new key and value pair\n",
    "cities[\"Japan\"]=\"Tokyo\""
   ]
  },
  {
   "cell_type": "code",
   "execution_count": 9,
   "metadata": {},
   "outputs": [
    {
     "data": {
      "text/plain": [
       "'Tokyo'"
      ]
     },
     "execution_count": 9,
     "metadata": {},
     "output_type": "execute_result"
    }
   ],
   "source": [
    "cities[\"Japan\"]"
   ]
  },
  {
   "cell_type": "code",
   "execution_count": 10,
   "metadata": {},
   "outputs": [
    {
     "data": {
      "text/plain": [
       "{'Uttar Pradesh': 'Gorakhpur',\n",
       " 'Rajasthan': 'Jaipur',\n",
       " 'West Bengal': 'Kolkata',\n",
       " 'Maharastra': 'Mumbai',\n",
       " 'Punjab': 'Amritsar',\n",
       " 'Italy': 'Rome',\n",
       " 'UK': 'London',\n",
       " 'US': 'New York',\n",
       " 'Japan': 'Tokyo'}"
      ]
     },
     "execution_count": 10,
     "metadata": {},
     "output_type": "execute_result"
    }
   ],
   "source": [
    "cities"
   ]
  },
  {
   "cell_type": "code",
   "execution_count": 13,
   "metadata": {},
   "outputs": [
    {
     "data": {
      "text/plain": [
       "'Tokyo'"
      ]
     },
     "execution_count": 13,
     "metadata": {},
     "output_type": "execute_result"
    }
   ],
   "source": [
    "#removing an item from the dictionary\n",
    "cities.pop(\"Japan\")"
   ]
  },
  {
   "cell_type": "code",
   "execution_count": 14,
   "metadata": {},
   "outputs": [
    {
     "data": {
      "text/plain": [
       "{'Uttar Pradesh': 'Gorakhpur',\n",
       " 'Rajasthan': 'Jaipur',\n",
       " 'West Bengal': 'Kolkata',\n",
       " 'Maharastra': 'Mumbai',\n",
       " 'Punjab': 'Amritsar',\n",
       " 'Italy': 'Rome',\n",
       " 'UK': 'London',\n",
       " 'US': 'New York'}"
      ]
     },
     "execution_count": 14,
     "metadata": {},
     "output_type": "execute_result"
    }
   ],
   "source": [
    "cities"
   ]
  },
  {
   "cell_type": "code",
   "execution_count": 18,
   "metadata": {},
   "outputs": [],
   "source": [
    "#second method to remove anything\n",
    "del cities[\"US\"]"
   ]
  },
  {
   "cell_type": "code",
   "execution_count": 19,
   "metadata": {},
   "outputs": [
    {
     "data": {
      "text/plain": [
       "{'Uttar Pradesh': 'Gorakhpur',\n",
       " 'Rajasthan': 'Jaipur',\n",
       " 'West Bengal': 'Kolkata',\n",
       " 'Maharastra': 'Mumbai',\n",
       " 'Punjab': 'Amritsar',\n",
       " 'Italy': 'Rome'}"
      ]
     },
     "execution_count": 19,
     "metadata": {},
     "output_type": "execute_result"
    }
   ],
   "source": [
    "cities"
   ]
  },
  {
   "cell_type": "code",
   "execution_count": 20,
   "metadata": {},
   "outputs": [
    {
     "data": {
      "text/plain": [
       "('Italy', 'Rome')"
      ]
     },
     "execution_count": 20,
     "metadata": {},
     "output_type": "execute_result"
    }
   ],
   "source": [
    "#third method to remove anything \n",
    "cities.popitem()"
   ]
  },
  {
   "cell_type": "code",
   "execution_count": 21,
   "metadata": {},
   "outputs": [
    {
     "data": {
      "text/plain": [
       "{'Uttar Pradesh': 'Gorakhpur',\n",
       " 'Rajasthan': 'Jaipur',\n",
       " 'West Bengal': 'Kolkata',\n",
       " 'Maharastra': 'Mumbai',\n",
       " 'Punjab': 'Amritsar'}"
      ]
     },
     "execution_count": 21,
     "metadata": {},
     "output_type": "execute_result"
    }
   ],
   "source": [
    "cities"
   ]
  },
  {
   "cell_type": "code",
   "execution_count": 22,
   "metadata": {},
   "outputs": [
    {
     "name": "stdout",
     "output_type": "stream",
     "text": [
      "{'Uttar Pradesh': 'Gorakhpur', 'Rajasthan': 'Jaipur', 'West Bengal': 'Kolkata', 'Maharastra': 'Mumbai', 'Punjab': 'Amritsar'}\n",
      "{'Uttar Pradesh': 'Gorakhpur', 'Rajasthan': 'Jaipur', 'West Bengal': 'Kolkata', 'Maharastra': 'Mumbai', 'Punjab': 'Amritsar'}\n",
      "{'Uttar Pradesh': 'Gorakhpur', 'Rajasthan': 'Jaipur', 'West Bengal': 'Kolkata', 'Maharastra': 'Mumbai', 'Punjab': 'Amritsar'}\n",
      "{'Uttar Pradesh': 'Gorakhpur', 'Rajasthan': 'Jaipur', 'West Bengal': 'Kolkata', 'Maharastra': 'Mumbai', 'Punjab': 'Amritsar'}\n",
      "{'Uttar Pradesh': 'Gorakhpur', 'Rajasthan': 'Jaipur', 'West Bengal': 'Kolkata', 'Maharastra': 'Mumbai', 'Punjab': 'Amritsar'}\n"
     ]
    }
   ],
   "source": [
    "#looping through dictionary key\n",
    "for x in cities:\n",
    "    print(cities)"
   ]
  },
  {
   "cell_type": "code",
   "execution_count": 23,
   "metadata": {},
   "outputs": [
    {
     "name": "stdout",
     "output_type": "stream",
     "text": [
      "Uttar Pradesh\n",
      "Rajasthan\n",
      "West Bengal\n",
      "Maharastra\n",
      "Punjab\n"
     ]
    }
   ],
   "source": [
    "#to print the keys name only\n",
    "for x in cities:\n",
    "    print(x)"
   ]
  },
  {
   "cell_type": "code",
   "execution_count": 24,
   "metadata": {},
   "outputs": [
    {
     "name": "stdout",
     "output_type": "stream",
     "text": [
      "Gorakhpur\n",
      "Jaipur\n",
      "Kolkata\n",
      "Mumbai\n",
      "Amritsar\n"
     ]
    }
   ],
   "source": [
    "#to print the values name only\n",
    "for x in cities.values():\n",
    "    print(x)"
   ]
  },
  {
   "cell_type": "code",
   "execution_count": 27,
   "metadata": {},
   "outputs": [
    {
     "name": "stdout",
     "output_type": "stream",
     "text": [
      "Uttar Pradesh  =>  Gorakhpur\n",
      "Rajasthan  =>  Jaipur\n",
      "West Bengal  =>  Kolkata\n",
      "Maharastra  =>  Mumbai\n",
      "Punjab  =>  Amritsar\n"
     ]
    }
   ],
   "source": [
    "#to print the key-value pair \n",
    "for x,y in cities.items():\n",
    "    print(x, \" => \" ,y)"
   ]
  },
  {
   "cell_type": "code",
   "execution_count": 28,
   "metadata": {},
   "outputs": [
    {
     "name": "stdout",
     "output_type": "stream",
     "text": [
      "5\n"
     ]
    }
   ],
   "source": [
    "print(len(cities))"
   ]
  },
  {
   "cell_type": "code",
   "execution_count": 32,
   "metadata": {},
   "outputs": [],
   "source": [
    "#nested dictionary\n",
    "\n",
    "family={\n",
    "    \"firstChild\" : {\n",
    "        \"name\":\"Ram\",\n",
    "        \"Age\": 20\n",
    "    },\n",
    "        \"secondChild\" : {\n",
    "        \"name\":\"Ram\",\n",
    "        \"Age\": 20\n",
    "    },\n",
    "        \"thirdChild\" : {\n",
    "        \"name\":\"Ram\",\n",
    "        \"Age\": 20\n",
    "    }\n",
    "}"
   ]
  },
  {
   "cell_type": "code",
   "execution_count": 33,
   "metadata": {},
   "outputs": [
    {
     "data": {
      "text/plain": [
       "{'name': 'Ram', 'Age': 20}"
      ]
     },
     "execution_count": 33,
     "metadata": {},
     "output_type": "execute_result"
    }
   ],
   "source": [
    "family[\"firstChild\"]"
   ]
  },
  {
   "cell_type": "code",
   "execution_count": 34,
   "metadata": {},
   "outputs": [],
   "source": [
    "#clearing a dictionary\n",
    "family.clear()"
   ]
  },
  {
   "cell_type": "code",
   "execution_count": 35,
   "metadata": {},
   "outputs": [
    {
     "data": {
      "text/plain": [
       "{}"
      ]
     },
     "execution_count": 35,
     "metadata": {},
     "output_type": "execute_result"
    }
   ],
   "source": [
    "family"
   ]
  },
  {
   "cell_type": "code",
   "execution_count": null,
   "metadata": {},
   "outputs": [],
   "source": []
  }
 ],
 "metadata": {
  "kernelspec": {
   "display_name": "Python 3",
   "language": "python",
   "name": "python3"
  },
  "language_info": {
   "codemirror_mode": {
    "name": "ipython",
    "version": 3
   },
   "file_extension": ".py",
   "mimetype": "text/x-python",
   "name": "python",
   "nbconvert_exporter": "python",
   "pygments_lexer": "ipython3",
   "version": "3.7.6"
  }
 },
 "nbformat": 4,
 "nbformat_minor": 4
}
